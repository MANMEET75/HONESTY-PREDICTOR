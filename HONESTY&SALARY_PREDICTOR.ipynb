{
 "cells": [
  {
   "cell_type": "markdown",
   "metadata": {
    "id": "BGj12A2G7ZYy"
   },
   "source": [
    "## Importing the libraries"
   ]
  },
  {
   "cell_type": "code",
   "execution_count": 1,
   "metadata": {
    "id": "7Wceg47b58MT"
   },
   "outputs": [],
   "source": [
    "import numpy as np\n",
    "import pandas as pd\n",
    "import matplotlib.pyplot as plt"
   ]
  },
  {
   "cell_type": "markdown",
   "metadata": {
    "id": "glrXGbyi7cvB"
   },
   "source": [
    "## Importing the dataset"
   ]
  },
  {
   "cell_type": "code",
   "execution_count": 2,
   "metadata": {
    "id": "N828wx5z6J38"
   },
   "outputs": [],
   "source": [
    "dataset=pd.read_excel(\"data for honesty predictor.xlsx\")\n",
    "X=dataset.iloc[:,0:-1].values # features with which we will predict the dependent variable predictors\n",
    "y=dataset.iloc[:,-1].values # dependent variable\n",
    "\n"
   ]
  },
  {
   "cell_type": "code",
   "execution_count": 3,
   "metadata": {},
   "outputs": [
    {
     "data": {
      "text/html": [
       "<div>\n",
       "<style scoped>\n",
       "    .dataframe tbody tr th:only-of-type {\n",
       "        vertical-align: middle;\n",
       "    }\n",
       "\n",
       "    .dataframe tbody tr th {\n",
       "        vertical-align: top;\n",
       "    }\n",
       "\n",
       "    .dataframe thead th {\n",
       "        text-align: right;\n",
       "    }\n",
       "</style>\n",
       "<table border=\"1\" class=\"dataframe\">\n",
       "  <thead>\n",
       "    <tr style=\"text-align: right;\">\n",
       "      <th></th>\n",
       "      <th>Occupation</th>\n",
       "      <th>Location</th>\n",
       "      <th>Experience</th>\n",
       "      <th>Salary (In Rs)</th>\n",
       "    </tr>\n",
       "  </thead>\n",
       "  <tbody>\n",
       "    <tr>\n",
       "      <th>0</th>\n",
       "      <td>Data Scientist</td>\n",
       "      <td>UAE</td>\n",
       "      <td>2</td>\n",
       "      <td>443850</td>\n",
       "    </tr>\n",
       "    <tr>\n",
       "      <th>1</th>\n",
       "      <td>Data Scientist</td>\n",
       "      <td>US</td>\n",
       "      <td>2</td>\n",
       "      <td>630560</td>\n",
       "    </tr>\n",
       "    <tr>\n",
       "      <th>2</th>\n",
       "      <td>Data Scientist</td>\n",
       "      <td>UK</td>\n",
       "      <td>2</td>\n",
       "      <td>540159</td>\n",
       "    </tr>\n",
       "    <tr>\n",
       "      <th>3</th>\n",
       "      <td>Data Scientist</td>\n",
       "      <td>AUSTRALIA</td>\n",
       "      <td>2</td>\n",
       "      <td>409624</td>\n",
       "    </tr>\n",
       "    <tr>\n",
       "      <th>4</th>\n",
       "      <td>AI-ML Specialist</td>\n",
       "      <td>UAE</td>\n",
       "      <td>2</td>\n",
       "      <td>300251</td>\n",
       "    </tr>\n",
       "    <tr>\n",
       "      <th>...</th>\n",
       "      <td>...</td>\n",
       "      <td>...</td>\n",
       "      <td>...</td>\n",
       "      <td>...</td>\n",
       "    </tr>\n",
       "    <tr>\n",
       "      <th>110</th>\n",
       "      <td>Data Scientist</td>\n",
       "      <td>Philippine</td>\n",
       "      <td>20</td>\n",
       "      <td>134307</td>\n",
       "    </tr>\n",
       "    <tr>\n",
       "      <th>111</th>\n",
       "      <td>Data Scientist</td>\n",
       "      <td>Argentina</td>\n",
       "      <td>20</td>\n",
       "      <td>61597</td>\n",
       "    </tr>\n",
       "    <tr>\n",
       "      <th>112</th>\n",
       "      <td>Data Scientist</td>\n",
       "      <td>Brazil</td>\n",
       "      <td>20</td>\n",
       "      <td>282158</td>\n",
       "    </tr>\n",
       "    <tr>\n",
       "      <th>113</th>\n",
       "      <td>Data Scientist</td>\n",
       "      <td>Egypt</td>\n",
       "      <td>20</td>\n",
       "      <td>81478</td>\n",
       "    </tr>\n",
       "    <tr>\n",
       "      <th>114</th>\n",
       "      <td>Data Scientist</td>\n",
       "      <td>Japan</td>\n",
       "      <td>20</td>\n",
       "      <td>655574</td>\n",
       "    </tr>\n",
       "  </tbody>\n",
       "</table>\n",
       "<p>115 rows × 4 columns</p>\n",
       "</div>"
      ],
      "text/plain": [
       "           Occupation    Location  Experience  Salary (In Rs)\n",
       "0      Data Scientist         UAE           2          443850\n",
       "1      Data Scientist          US           2          630560\n",
       "2      Data Scientist          UK           2          540159\n",
       "3      Data Scientist   AUSTRALIA           2          409624\n",
       "4    AI-ML Specialist         UAE           2          300251\n",
       "..                ...         ...         ...             ...\n",
       "110    Data Scientist  Philippine          20          134307\n",
       "111    Data Scientist   Argentina          20           61597\n",
       "112    Data Scientist      Brazil          20          282158\n",
       "113    Data Scientist       Egypt          20           81478\n",
       "114    Data Scientist       Japan          20          655574\n",
       "\n",
       "[115 rows x 4 columns]"
      ]
     },
     "execution_count": 3,
     "metadata": {},
     "output_type": "execute_result"
    }
   ],
   "source": [
    "dataset"
   ]
  },
  {
   "cell_type": "code",
   "execution_count": 4,
   "metadata": {
    "colab": {
     "base_uri": "https://localhost:8080/"
    },
    "id": "kk3VbkUTbmjv",
    "outputId": "094850cb-5606-4472-ec47-1860d2543e6b"
   },
   "outputs": [
    {
     "name": "stdout",
     "output_type": "stream",
     "text": [
      "[ 443850  630560  540159  409624  300251  411582  384731  290150  134339\n",
      "  213383  182291  145774   30500  193736   28464  174712  414987  290437\n",
      "  201977  635354   51164  273832   35757   35757  119917   27045  773615\n",
      "  694627  502670  369875  561340  541850  516173  379342  179485  285310\n",
      "  243695  509402  373116  278092   68361   35792  154305   47282  357374\n",
      " 1094890  957511  710235  522176  753636  670641  530749  265374 1094890\n",
      "  957511  710235  522176  753636  670641   47826  213088   63325  500672\n",
      "  739750  870294 1278704 1189693  831360  611382  903084  811677  638661\n",
      "  323735  514678  438459  350293   64400  443854 1246034   55628  369714\n",
      "  843148  638113  482558  123221   57068  263054   75568  603360  870294\n",
      "  961675 1406574 1266447  913946  672302  983003  887472  693718  352364\n",
      "  560232  765625  382929   69400  471646 1381741   61769  399020  926585\n",
      "  693233  507432  134307   61597  282158   81478  655574]\n"
     ]
    }
   ],
   "source": [
    "print(y)"
   ]
  },
  {
   "cell_type": "code",
   "execution_count": 5,
   "metadata": {
    "colab": {
     "base_uri": "https://localhost:8080/"
    },
    "id": "9qAJWep58xlM",
    "outputId": "79fd5356-8782-41db-f69f-2e640c3c0440"
   },
   "outputs": [
    {
     "name": "stdout",
     "output_type": "stream",
     "text": [
      "[['Data Scientist' 'UAE' 2]\n",
      " ['Data Scientist' 'US' 2]\n",
      " ['Data Scientist' 'UK' 2]\n",
      " ['Data Scientist' 'AUSTRALIA' 2]\n",
      " ['AI-ML Specialist' 'UAE' 2]\n",
      " ['AI-ML Specialist' 'US' 2]\n",
      " ['AI-ML Specialist' 'UK' 2]\n",
      " ['AI-ML Specialist' 'AUSTRALIA' 2]\n",
      " ['Graphic Designer' 'AUSTRALIA' 2]\n",
      " ['Graphic Designer' 'US' 2]\n",
      " ['Graphic Designer' 'UK' 2]\n",
      " ['Graphic Designer' 'UAE' 2]\n",
      " ['Data Scientist' 'India' 2]\n",
      " ['Data Scientist' 'Spain' 2]\n",
      " ['Data Scientist' 'Pakistan' 2]\n",
      " ['Data Scientist' 'Jordan' 2]\n",
      " ['Data Scientist' 'denmark' 2]\n",
      " ['Data Scientist' 'bahrain' 2]\n",
      " ['Data Scientist' 'new zealand' 2]\n",
      " ['Data Scientist' 'Canada' 2]\n",
      " ['Data Scientist' 'Philippine' 2]\n",
      " ['Data Scientist' 'Japan' 2]\n",
      " ['Data Scientist' 'Egypt' 2]\n",
      " ['Data Scientist' 'Egypt' 2]\n",
      " ['Data Scientist' 'Brazil' 2]\n",
      " ['Data Scientist' 'Argentina' 2]\n",
      " ['Data Scientist' 'US' 5]\n",
      " ['Data Scientist' 'UK' 5]\n",
      " ['Data Scientist' 'AUSTRALIA' 5]\n",
      " ['AI-ML Specialist' 'UAE' 5]\n",
      " ['Data Scientist' 'UAE' 5]\n",
      " ['AI-ML Specialist' 'US' 5]\n",
      " ['AI-ML Specialist' 'UK' 5]\n",
      " ['AI-ML Specialist' 'AUSTRALIA' 5]\n",
      " ['Graphic Designer' 'AUSTRALIA' 5]\n",
      " ['Graphic Designer' 'US' 5]\n",
      " ['Graphic Designer' 'UK' 5]\n",
      " ['Data Scientist' 'denmark' 5]\n",
      " ['Data Scientist' 'bahrain' 5]\n",
      " ['Data Scientist' 'new zealand' 5]\n",
      " ['Data Scientist' 'Philippine' 5]\n",
      " ['Data Scientist' 'Argentina' 5]\n",
      " ['Data Scientist' 'Brazil' 5]\n",
      " ['Data Scientist' 'Egypt' 5]\n",
      " ['Data Scientist' 'Japan' 5]\n",
      " ['Data Scientist' 'US' 10]\n",
      " ['Data Scientist' 'UK' 10]\n",
      " ['Data Scientist' 'AUSTRALIA' 10]\n",
      " ['AI-ML Specialist' 'UAE' 10]\n",
      " ['AI-ML Specialist' 'US' 10]\n",
      " ['AI-ML Specialist' 'UK' 10]\n",
      " ['AI-ML Specialist' 'AUSTRALIA' 10]\n",
      " ['Graphic Designer' 'AUSTRALIA' 10]\n",
      " ['Data Scientist' 'US' 10]\n",
      " ['Data Scientist' 'UK' 10]\n",
      " ['Data Scientist' 'AUSTRALIA' 10]\n",
      " ['AI-ML Specialist' 'UAE' 10]\n",
      " ['AI-ML Specialist' 'US' 10]\n",
      " ['AI-ML Specialist' 'UK' 10]\n",
      " ['Data Scientist' 'Argentina' 10]\n",
      " ['Data Scientist' 'Brazil' 10]\n",
      " ['Data Scientist' 'Egypt' 10]\n",
      " ['Data Scientist' 'Japan' 10]\n",
      " ['Data Scientist' 'UAE' 10]\n",
      " ['Data Scientist' 'UAE' 15]\n",
      " ['Data Scientist' 'US' 15]\n",
      " ['Data Scientist' 'UK' 15]\n",
      " ['Data Scientist' 'AUSTRALIA' 15]\n",
      " ['AI-ML Specialist' 'UAE' 15]\n",
      " ['AI-ML Specialist' 'US' 15]\n",
      " ['AI-ML Specialist' 'UK' 15]\n",
      " ['AI-ML Specialist' 'AUSTRALIA' 15]\n",
      " ['Graphic Designer' 'AUSTRALIA' 15]\n",
      " ['Graphic Designer' 'US' 15]\n",
      " ['Graphic Designer' 'UK' 15]\n",
      " ['Graphic Designer' 'UAE' 15]\n",
      " ['Data Scientist' 'India' 15]\n",
      " ['Data Scientist' 'Spain' 15]\n",
      " ['Data Scientist' 'Canada' 15]\n",
      " ['Data Scientist' 'Pakistan' 15]\n",
      " ['Data Scientist' 'Jordan' 15]\n",
      " ['Data Scientist' 'denmark' 15]\n",
      " ['Data Scientist' 'bahrain' 15]\n",
      " ['Data Scientist' 'new zealand' 15]\n",
      " ['Data Scientist' 'Philippine' 15]\n",
      " ['Data Scientist' 'Argentina' 15]\n",
      " ['Data Scientist' 'Brazil' 15]\n",
      " ['Data Scientist' 'Egypt' 15]\n",
      " ['Data Scientist' 'Japan' 15]\n",
      " ['Data Scientist' 'UAE' 15]\n",
      " ['Data Scientist' 'UAE' 20]\n",
      " ['Data Scientist' 'US' 20]\n",
      " ['Data Scientist' 'UK' 20]\n",
      " ['Data Scientist' 'AUSTRALIA' 20]\n",
      " ['AI-ML Specialist' 'UAE' 20]\n",
      " ['AI-ML Specialist' 'US' 20]\n",
      " ['AI-ML Specialist' 'UK' 20]\n",
      " ['AI-ML Specialist' 'AUSTRALIA' 20]\n",
      " ['Graphic Designer' 'AUSTRALIA' 20]\n",
      " ['Graphic Designer' 'US' 20]\n",
      " ['Graphic Designer' 'UK' 20]\n",
      " ['Graphic Designer' 'UAE' 20]\n",
      " ['Data Scientist' 'India' 20]\n",
      " ['Data Scientist' 'Spain' 20]\n",
      " ['Data Scientist' 'Canada' 20]\n",
      " ['Data Scientist' 'Pakistan' 20]\n",
      " ['Data Scientist' 'Jordan' 20]\n",
      " ['Data Scientist' 'denmark' 20]\n",
      " ['Data Scientist' 'bahrain' 20]\n",
      " ['Data Scientist' 'new zealand' 20]\n",
      " ['Data Scientist' 'Philippine' 20]\n",
      " ['Data Scientist' 'Argentina' 20]\n",
      " ['Data Scientist' 'Brazil' 20]\n",
      " ['Data Scientist' 'Egypt' 20]\n",
      " ['Data Scientist' 'Japan' 20]]\n"
     ]
    }
   ],
   "source": [
    "print(X)"
   ]
  },
  {
   "cell_type": "code",
   "execution_count": 6,
   "metadata": {
    "colab": {
     "base_uri": "https://localhost:8080/"
    },
    "id": "3848CnMgSrt0",
    "outputId": "55589e55-ba60-42bd-9042-63d2b005a98c"
   },
   "outputs": [
    {
     "name": "stdout",
     "output_type": "stream",
     "text": [
      "<class 'pandas.core.frame.DataFrame'>\n",
      "RangeIndex: 115 entries, 0 to 114\n",
      "Data columns (total 4 columns):\n",
      " #   Column          Non-Null Count  Dtype \n",
      "---  ------          --------------  ----- \n",
      " 0   Occupation      115 non-null    object\n",
      " 1   Location        115 non-null    object\n",
      " 2   Experience      115 non-null    int64 \n",
      " 3   Salary (In Rs)  115 non-null    int64 \n",
      "dtypes: int64(2), object(2)\n",
      "memory usage: 3.7+ KB\n"
     ]
    }
   ],
   "source": [
    "dataset.info() # getting the basic information regarding the dataset over here using this one"
   ]
  },
  {
   "cell_type": "code",
   "execution_count": 7,
   "metadata": {
    "colab": {
     "base_uri": "https://localhost:8080/",
     "height": 300
    },
    "id": "aU6cR6YTWiCI",
    "outputId": "c4fe662a-cb68-4a01-fd33-726538a78ca9"
   },
   "outputs": [
    {
     "data": {
      "text/html": [
       "<div>\n",
       "<style scoped>\n",
       "    .dataframe tbody tr th:only-of-type {\n",
       "        vertical-align: middle;\n",
       "    }\n",
       "\n",
       "    .dataframe tbody tr th {\n",
       "        vertical-align: top;\n",
       "    }\n",
       "\n",
       "    .dataframe thead th {\n",
       "        text-align: right;\n",
       "    }\n",
       "</style>\n",
       "<table border=\"1\" class=\"dataframe\">\n",
       "  <thead>\n",
       "    <tr style=\"text-align: right;\">\n",
       "      <th></th>\n",
       "      <th>Experience</th>\n",
       "      <th>Salary (In Rs)</th>\n",
       "    </tr>\n",
       "  </thead>\n",
       "  <tbody>\n",
       "    <tr>\n",
       "      <th>count</th>\n",
       "      <td>115.000000</td>\n",
       "      <td>1.150000e+02</td>\n",
       "    </tr>\n",
       "    <tr>\n",
       "      <th>mean</th>\n",
       "      <td>10.669565</td>\n",
       "      <td>4.845327e+05</td>\n",
       "    </tr>\n",
       "    <tr>\n",
       "      <th>std</th>\n",
       "      <td>6.778089</td>\n",
       "      <td>3.426628e+05</td>\n",
       "    </tr>\n",
       "    <tr>\n",
       "      <th>min</th>\n",
       "      <td>2.000000</td>\n",
       "      <td>2.704500e+04</td>\n",
       "    </tr>\n",
       "    <tr>\n",
       "      <th>25%</th>\n",
       "      <td>5.000000</td>\n",
       "      <td>1.978565e+05</td>\n",
       "    </tr>\n",
       "    <tr>\n",
       "      <th>50%</th>\n",
       "      <td>10.000000</td>\n",
       "      <td>4.438500e+05</td>\n",
       "    </tr>\n",
       "    <tr>\n",
       "      <th>75%</th>\n",
       "      <td>15.000000</td>\n",
       "      <td>6.941725e+05</td>\n",
       "    </tr>\n",
       "    <tr>\n",
       "      <th>max</th>\n",
       "      <td>20.000000</td>\n",
       "      <td>1.406574e+06</td>\n",
       "    </tr>\n",
       "  </tbody>\n",
       "</table>\n",
       "</div>"
      ],
      "text/plain": [
       "       Experience  Salary (In Rs)\n",
       "count  115.000000    1.150000e+02\n",
       "mean    10.669565    4.845327e+05\n",
       "std      6.778089    3.426628e+05\n",
       "min      2.000000    2.704500e+04\n",
       "25%      5.000000    1.978565e+05\n",
       "50%     10.000000    4.438500e+05\n",
       "75%     15.000000    6.941725e+05\n",
       "max     20.000000    1.406574e+06"
      ]
     },
     "execution_count": 7,
     "metadata": {},
     "output_type": "execute_result"
    }
   ],
   "source": [
    "dataset.describe() # this will give the basic statistial information regarding the dataset"
   ]
  },
  {
   "cell_type": "markdown",
   "metadata": {
    "id": "T-imzuve1hRA"
   },
   "source": [
    "## Encoding the dependent variables"
   ]
  },
  {
   "cell_type": "code",
   "execution_count": 8,
   "metadata": {
    "id": "AkHkkyd41kl4"
   },
   "outputs": [],
   "source": [
    "from sklearn.preprocessing import OrdinalEncoder\n",
    "encoder=OrdinalEncoder()\n",
    "X[:,1:2]=encoder.fit_transform(X[:,1:2])\n",
    "\n",
    "\n",
    "from sklearn.compose import ColumnTransformer\n",
    "from sklearn.preprocessing import OneHotEncoder\n",
    "ct=ColumnTransformer(transformers=[(\"encoder\",OneHotEncoder(),[0])],remainder=\"passthrough\")\n",
    "X=np.array(ct.fit_transform(X))\n"
   ]
  },
  {
   "cell_type": "code",
   "execution_count": null,
   "metadata": {},
   "outputs": [],
   "source": []
  },
  {
   "cell_type": "code",
   "execution_count": 9,
   "metadata": {},
   "outputs": [
    {
     "name": "stdout",
     "output_type": "stream",
     "text": [
      "[[0.0 1.0 0.0 11.0 2]\n",
      " [0.0 1.0 0.0 13.0 2]\n",
      " [0.0 1.0 0.0 12.0 2]\n",
      " [0.0 1.0 0.0 0.0 2]\n",
      " [1.0 0.0 0.0 11.0 2]\n",
      " [1.0 0.0 0.0 13.0 2]\n",
      " [1.0 0.0 0.0 12.0 2]\n",
      " [1.0 0.0 0.0 0.0 2]\n",
      " [0.0 0.0 1.0 0.0 2]\n",
      " [0.0 0.0 1.0 13.0 2]\n",
      " [0.0 0.0 1.0 12.0 2]\n",
      " [0.0 0.0 1.0 11.0 2]\n",
      " [0.0 1.0 0.0 5.0 2]\n",
      " [0.0 1.0 0.0 10.0 2]\n",
      " [0.0 1.0 0.0 8.0 2]\n",
      " [0.0 1.0 0.0 7.0 2]\n",
      " [0.0 1.0 0.0 15.0 2]\n",
      " [0.0 1.0 0.0 14.0 2]\n",
      " [0.0 1.0 0.0 16.0 2]\n",
      " [0.0 1.0 0.0 3.0 2]\n",
      " [0.0 1.0 0.0 9.0 2]\n",
      " [0.0 1.0 0.0 6.0 2]\n",
      " [0.0 1.0 0.0 4.0 2]\n",
      " [0.0 1.0 0.0 4.0 2]\n",
      " [0.0 1.0 0.0 2.0 2]\n",
      " [0.0 1.0 0.0 1.0 2]\n",
      " [0.0 1.0 0.0 13.0 5]\n",
      " [0.0 1.0 0.0 12.0 5]\n",
      " [0.0 1.0 0.0 0.0 5]\n",
      " [1.0 0.0 0.0 11.0 5]\n",
      " [0.0 1.0 0.0 11.0 5]\n",
      " [1.0 0.0 0.0 13.0 5]\n",
      " [1.0 0.0 0.0 12.0 5]\n",
      " [1.0 0.0 0.0 0.0 5]\n",
      " [0.0 0.0 1.0 0.0 5]\n",
      " [0.0 0.0 1.0 13.0 5]\n",
      " [0.0 0.0 1.0 12.0 5]\n",
      " [0.0 1.0 0.0 15.0 5]\n",
      " [0.0 1.0 0.0 14.0 5]\n",
      " [0.0 1.0 0.0 16.0 5]\n",
      " [0.0 1.0 0.0 9.0 5]\n",
      " [0.0 1.0 0.0 1.0 5]\n",
      " [0.0 1.0 0.0 2.0 5]\n",
      " [0.0 1.0 0.0 4.0 5]\n",
      " [0.0 1.0 0.0 6.0 5]\n",
      " [0.0 1.0 0.0 13.0 10]\n",
      " [0.0 1.0 0.0 12.0 10]\n",
      " [0.0 1.0 0.0 0.0 10]\n",
      " [1.0 0.0 0.0 11.0 10]\n",
      " [1.0 0.0 0.0 13.0 10]\n",
      " [1.0 0.0 0.0 12.0 10]\n",
      " [1.0 0.0 0.0 0.0 10]\n",
      " [0.0 0.0 1.0 0.0 10]\n",
      " [0.0 1.0 0.0 13.0 10]\n",
      " [0.0 1.0 0.0 12.0 10]\n",
      " [0.0 1.0 0.0 0.0 10]\n",
      " [1.0 0.0 0.0 11.0 10]\n",
      " [1.0 0.0 0.0 13.0 10]\n",
      " [1.0 0.0 0.0 12.0 10]\n",
      " [0.0 1.0 0.0 1.0 10]\n",
      " [0.0 1.0 0.0 2.0 10]\n",
      " [0.0 1.0 0.0 4.0 10]\n",
      " [0.0 1.0 0.0 6.0 10]\n",
      " [0.0 1.0 0.0 11.0 10]\n",
      " [0.0 1.0 0.0 11.0 15]\n",
      " [0.0 1.0 0.0 13.0 15]\n",
      " [0.0 1.0 0.0 12.0 15]\n",
      " [0.0 1.0 0.0 0.0 15]\n",
      " [1.0 0.0 0.0 11.0 15]\n",
      " [1.0 0.0 0.0 13.0 15]\n",
      " [1.0 0.0 0.0 12.0 15]\n",
      " [1.0 0.0 0.0 0.0 15]\n",
      " [0.0 0.0 1.0 0.0 15]\n",
      " [0.0 0.0 1.0 13.0 15]\n",
      " [0.0 0.0 1.0 12.0 15]\n",
      " [0.0 0.0 1.0 11.0 15]\n",
      " [0.0 1.0 0.0 5.0 15]\n",
      " [0.0 1.0 0.0 10.0 15]\n",
      " [0.0 1.0 0.0 3.0 15]\n",
      " [0.0 1.0 0.0 8.0 15]\n",
      " [0.0 1.0 0.0 7.0 15]\n",
      " [0.0 1.0 0.0 15.0 15]\n",
      " [0.0 1.0 0.0 14.0 15]\n",
      " [0.0 1.0 0.0 16.0 15]\n",
      " [0.0 1.0 0.0 9.0 15]\n",
      " [0.0 1.0 0.0 1.0 15]\n",
      " [0.0 1.0 0.0 2.0 15]\n",
      " [0.0 1.0 0.0 4.0 15]\n",
      " [0.0 1.0 0.0 6.0 15]\n",
      " [0.0 1.0 0.0 11.0 15]\n",
      " [0.0 1.0 0.0 11.0 20]\n",
      " [0.0 1.0 0.0 13.0 20]\n",
      " [0.0 1.0 0.0 12.0 20]\n",
      " [0.0 1.0 0.0 0.0 20]\n",
      " [1.0 0.0 0.0 11.0 20]\n",
      " [1.0 0.0 0.0 13.0 20]\n",
      " [1.0 0.0 0.0 12.0 20]\n",
      " [1.0 0.0 0.0 0.0 20]\n",
      " [0.0 0.0 1.0 0.0 20]\n",
      " [0.0 0.0 1.0 13.0 20]\n",
      " [0.0 0.0 1.0 12.0 20]\n",
      " [0.0 0.0 1.0 11.0 20]\n",
      " [0.0 1.0 0.0 5.0 20]\n",
      " [0.0 1.0 0.0 10.0 20]\n",
      " [0.0 1.0 0.0 3.0 20]\n",
      " [0.0 1.0 0.0 8.0 20]\n",
      " [0.0 1.0 0.0 7.0 20]\n",
      " [0.0 1.0 0.0 15.0 20]\n",
      " [0.0 1.0 0.0 14.0 20]\n",
      " [0.0 1.0 0.0 16.0 20]\n",
      " [0.0 1.0 0.0 9.0 20]\n",
      " [0.0 1.0 0.0 1.0 20]\n",
      " [0.0 1.0 0.0 2.0 20]\n",
      " [0.0 1.0 0.0 4.0 20]\n",
      " [0.0 1.0 0.0 6.0 20]]\n"
     ]
    }
   ],
   "source": [
    "print(X)"
   ]
  },
  {
   "cell_type": "markdown",
   "metadata": {
    "id": "9AZL5KdFXphk"
   },
   "source": [
    "## Spliiting the dataset into training set and testing set"
   ]
  },
  {
   "cell_type": "code",
   "execution_count": 10,
   "metadata": {
    "id": "SpsFQVIaXtpL"
   },
   "outputs": [],
   "source": [
    "from sklearn.model_selection import train_test_split\n",
    "X_train,X_test,y_train,y_test=train_test_split(X,y,test_size=0.2,random_state=0)"
   ]
  },
  {
   "cell_type": "code",
   "execution_count": 11,
   "metadata": {},
   "outputs": [],
   "source": [
    "\n",
    "# from sklearn.preprocessing import StandardScaler\n",
    "# sc=StandardScaler()\n",
    "# y_train=sc.fit_transform(y_train)"
   ]
  },
  {
   "cell_type": "markdown",
   "metadata": {
    "id": "VhYvPB8r7gTZ"
   },
   "source": [
    "## Training the model on the training set\n",
    "POLYNOMIAL REGRESSION\n"
   ]
  },
  {
   "cell_type": "code",
   "execution_count": 27,
   "metadata": {
    "colab": {
     "base_uri": "https://localhost:8080/"
    },
    "id": "aZm3JfqE6dh5",
    "outputId": "23d7fccb-5666-41df-9889-c4b9536949d0"
   },
   "outputs": [
    {
     "data": {
      "text/html": [
       "<style>#sk-container-id-3 {color: black;background-color: white;}#sk-container-id-3 pre{padding: 0;}#sk-container-id-3 div.sk-toggleable {background-color: white;}#sk-container-id-3 label.sk-toggleable__label {cursor: pointer;display: block;width: 100%;margin-bottom: 0;padding: 0.3em;box-sizing: border-box;text-align: center;}#sk-container-id-3 label.sk-toggleable__label-arrow:before {content: \"▸\";float: left;margin-right: 0.25em;color: #696969;}#sk-container-id-3 label.sk-toggleable__label-arrow:hover:before {color: black;}#sk-container-id-3 div.sk-estimator:hover label.sk-toggleable__label-arrow:before {color: black;}#sk-container-id-3 div.sk-toggleable__content {max-height: 0;max-width: 0;overflow: hidden;text-align: left;background-color: #f0f8ff;}#sk-container-id-3 div.sk-toggleable__content pre {margin: 0.2em;color: black;border-radius: 0.25em;background-color: #f0f8ff;}#sk-container-id-3 input.sk-toggleable__control:checked~div.sk-toggleable__content {max-height: 200px;max-width: 100%;overflow: auto;}#sk-container-id-3 input.sk-toggleable__control:checked~label.sk-toggleable__label-arrow:before {content: \"▾\";}#sk-container-id-3 div.sk-estimator input.sk-toggleable__control:checked~label.sk-toggleable__label {background-color: #d4ebff;}#sk-container-id-3 div.sk-label input.sk-toggleable__control:checked~label.sk-toggleable__label {background-color: #d4ebff;}#sk-container-id-3 input.sk-hidden--visually {border: 0;clip: rect(1px 1px 1px 1px);clip: rect(1px, 1px, 1px, 1px);height: 1px;margin: -1px;overflow: hidden;padding: 0;position: absolute;width: 1px;}#sk-container-id-3 div.sk-estimator {font-family: monospace;background-color: #f0f8ff;border: 1px dotted black;border-radius: 0.25em;box-sizing: border-box;margin-bottom: 0.5em;}#sk-container-id-3 div.sk-estimator:hover {background-color: #d4ebff;}#sk-container-id-3 div.sk-parallel-item::after {content: \"\";width: 100%;border-bottom: 1px solid gray;flex-grow: 1;}#sk-container-id-3 div.sk-label:hover label.sk-toggleable__label {background-color: #d4ebff;}#sk-container-id-3 div.sk-serial::before {content: \"\";position: absolute;border-left: 1px solid gray;box-sizing: border-box;top: 0;bottom: 0;left: 50%;z-index: 0;}#sk-container-id-3 div.sk-serial {display: flex;flex-direction: column;align-items: center;background-color: white;padding-right: 0.2em;padding-left: 0.2em;position: relative;}#sk-container-id-3 div.sk-item {position: relative;z-index: 1;}#sk-container-id-3 div.sk-parallel {display: flex;align-items: stretch;justify-content: center;background-color: white;position: relative;}#sk-container-id-3 div.sk-item::before, #sk-container-id-3 div.sk-parallel-item::before {content: \"\";position: absolute;border-left: 1px solid gray;box-sizing: border-box;top: 0;bottom: 0;left: 50%;z-index: -1;}#sk-container-id-3 div.sk-parallel-item {display: flex;flex-direction: column;z-index: 1;position: relative;background-color: white;}#sk-container-id-3 div.sk-parallel-item:first-child::after {align-self: flex-end;width: 50%;}#sk-container-id-3 div.sk-parallel-item:last-child::after {align-self: flex-start;width: 50%;}#sk-container-id-3 div.sk-parallel-item:only-child::after {width: 0;}#sk-container-id-3 div.sk-dashed-wrapped {border: 1px dashed gray;margin: 0 0.4em 0.5em 0.4em;box-sizing: border-box;padding-bottom: 0.4em;background-color: white;}#sk-container-id-3 div.sk-label label {font-family: monospace;font-weight: bold;display: inline-block;line-height: 1.2em;}#sk-container-id-3 div.sk-label-container {text-align: center;}#sk-container-id-3 div.sk-container {/* jupyter's `normalize.less` sets `[hidden] { display: none; }` but bootstrap.min.css set `[hidden] { display: none !important; }` so we also need the `!important` here to be able to override the default hidden behavior on the sphinx rendered scikit-learn.org. See: https://github.com/scikit-learn/scikit-learn/issues/21755 */display: inline-block !important;position: relative;}#sk-container-id-3 div.sk-text-repr-fallback {display: none;}</style><div id=\"sk-container-id-3\" class=\"sk-top-container\"><div class=\"sk-text-repr-fallback\"><pre>RandomForestRegressor(n_estimators=25, random_state=0)</pre><b>In a Jupyter environment, please rerun this cell to show the HTML representation or trust the notebook. <br />On GitHub, the HTML representation is unable to render, please try loading this page with nbviewer.org.</b></div><div class=\"sk-container\" hidden><div class=\"sk-item\"><div class=\"sk-estimator sk-toggleable\"><input class=\"sk-toggleable__control sk-hidden--visually\" id=\"sk-estimator-id-3\" type=\"checkbox\" checked><label for=\"sk-estimator-id-3\" class=\"sk-toggleable__label sk-toggleable__label-arrow\">RandomForestRegressor</label><div class=\"sk-toggleable__content\"><pre>RandomForestRegressor(n_estimators=25, random_state=0)</pre></div></div></div></div></div>"
      ],
      "text/plain": [
       "RandomForestRegressor(n_estimators=25, random_state=0)"
      ]
     },
     "execution_count": 27,
     "metadata": {},
     "output_type": "execute_result"
    }
   ],
   "source": [
    "# from sklearn.preprocessing import PolynomialFeatures\n",
    "# from sklearn.linear_model import LinearRegression\n",
    "# poly_reg=PolynomialFeatures(degree=4)\n",
    "# X_poly=poly_reg.fit_transform(X_train)\n",
    "# regressor=LinearRegression()\n",
    "# regressor.fit(X_poly,y_train)\n",
    "\n",
    "# from sklearn.tree import DecisionTreeRegressor\n",
    "# regressor=DecisionTreeRegressor(random_state=0)\n",
    "# regressor.fit(X_train,y_train)\n",
    "\n",
    "from sklearn.ensemble import RandomForestRegressor\n",
    "regressor=RandomForestRegressor(n_estimators=25,random_state=0)\n",
    "regressor.fit(X_train,y_train)\n",
    "\n",
    "# from sklearn.linear_model import LinearRegression\n",
    "# regressor=LinearRegression()\n",
    "# regressor.fit(X_train,y_train)\n",
    "\n"
   ]
  },
  {
   "cell_type": "markdown",
   "metadata": {
    "id": "p4yjz9qn9hKn"
   },
   "source": [
    "## Predicting the results"
   ]
  },
  {
   "cell_type": "code",
   "execution_count": 28,
   "metadata": {
    "colab": {
     "base_uri": "https://localhost:8080/"
    },
    "id": "pERV6fi89Gbi",
    "outputId": "1346b512-7700-4e39-a7c3-33db11bea07f"
   },
   "outputs": [
    {
     "name": "stdout",
     "output_type": "stream",
     "text": [
      "[[ 237659.36  182291.  ]\n",
      " [ 657441.44  438459.  ]\n",
      " [1134437.4  1189693.  ]\n",
      " [ 577966.04  530749.  ]\n",
      " [ 404492.24  290150.  ]\n",
      " [ 949922.36 1246034.  ]\n",
      " [1271840.08 1406574.  ]\n",
      " [ 772642.68  870294.  ]\n",
      " [ 357270.72  399020.  ]\n",
      " [ 391583.48  500672.  ]\n",
      " [ 470060.24  561340.  ]\n",
      " [ 510576.6   540159.  ]\n",
      " [ 772779.48  913946.  ]\n",
      " [ 111557.84   35757.  ]\n",
      " [ 112138.12   47282.  ]\n",
      " [ 730765.96  926585.  ]\n",
      " [ 246440.6   119917.  ]\n",
      " [ 610167.88  514678.  ]\n",
      " [ 199888.12  213088.  ]\n",
      " [ 519672.92  522176.  ]\n",
      " [ 355287.72  414987.  ]\n",
      " [ 257395.76  193736.  ]\n",
      " [ 540224.2   773615.  ]]\n"
     ]
    }
   ],
   "source": [
    "y_pred = regressor.predict(X_test)\n",
    "np.set_printoptions(precision=2)\n",
    "print(np.concatenate((y_pred.reshape(len(y_pred),1), y_test.reshape(len(y_test),1)),1))"
   ]
  },
  {
   "cell_type": "code",
   "execution_count": null,
   "metadata": {
    "colab": {
     "base_uri": "https://localhost:8080/"
    },
    "id": "YFo00r-mcYHq",
    "outputId": "1c11310d-b120-48e6-fe9b-ad56f222bf7a"
   },
   "outputs": [],
   "source": []
  },
  {
   "cell_type": "markdown",
   "metadata": {
    "id": "Ryq2YfQq-h6Y"
   },
   "source": [
    "## Predicting the new results"
   ]
  },
  {
   "cell_type": "markdown",
   "metadata": {
    "id": "6aYniJ695E_V"
   },
   "source": [
    "### PREDICTING THE SALARY OF THE DATA SCIENTIST IN UAE WITH 0 WORK EXPERIENCE"
   ]
  },
  {
   "cell_type": "code",
   "execution_count": 30,
   "metadata": {
    "colab": {
     "base_uri": "https://localhost:8080/"
    },
    "id": "nyoN5VAQcK3z",
    "outputId": "3346b690-58e0-4639-bb54-d5dbccb6772b"
   },
   "outputs": [
    {
     "name": "stdout",
     "output_type": "stream",
     "text": [
      "[455431.44]\n"
     ]
    }
   ],
   "source": [
    "print(regressor.predict([[0,1,0,11,0]]))"
   ]
  },
  {
   "cell_type": "markdown",
   "metadata": {
    "id": "SUHQ8WSI9q90"
   },
   "source": [
    "## Evaluating the performance of machine learning model"
   ]
  },
  {
   "cell_type": "code",
   "execution_count": 31,
   "metadata": {
    "colab": {
     "base_uri": "https://localhost:8080/"
    },
    "id": "iq0UI4X49p_f",
    "outputId": "9d4ee31b-973f-44dc-f0ed-64a7ba31ea09"
   },
   "outputs": [
    {
     "data": {
      "text/plain": [
       "0.8884690710306652"
      ]
     },
     "execution_count": 31,
     "metadata": {},
     "output_type": "execute_result"
    }
   ],
   "source": [
    "from sklearn.metrics import r2_score\n",
    "r2_score(y_test,y_pred)"
   ]
  },
  {
   "cell_type": "code",
   "execution_count": null,
   "metadata": {},
   "outputs": [],
   "source": []
  },
  {
   "cell_type": "code",
   "execution_count": null,
   "metadata": {},
   "outputs": [],
   "source": []
  },
  {
   "cell_type": "code",
   "execution_count": null,
   "metadata": {},
   "outputs": [],
   "source": []
  },
  {
   "cell_type": "code",
   "execution_count": null,
   "metadata": {},
   "outputs": [],
   "source": []
  },
  {
   "cell_type": "code",
   "execution_count": null,
   "metadata": {},
   "outputs": [],
   "source": []
  },
  {
   "cell_type": "code",
   "execution_count": null,
   "metadata": {},
   "outputs": [],
   "source": []
  },
  {
   "cell_type": "code",
   "execution_count": null,
   "metadata": {},
   "outputs": [],
   "source": []
  },
  {
   "cell_type": "code",
   "execution_count": null,
   "metadata": {},
   "outputs": [],
   "source": []
  },
  {
   "cell_type": "code",
   "execution_count": null,
   "metadata": {},
   "outputs": [],
   "source": []
  },
  {
   "cell_type": "code",
   "execution_count": null,
   "metadata": {},
   "outputs": [],
   "source": []
  },
  {
   "cell_type": "code",
   "execution_count": null,
   "metadata": {},
   "outputs": [],
   "source": []
  },
  {
   "cell_type": "code",
   "execution_count": null,
   "metadata": {},
   "outputs": [],
   "source": []
  },
  {
   "cell_type": "code",
   "execution_count": null,
   "metadata": {},
   "outputs": [],
   "source": []
  },
  {
   "cell_type": "code",
   "execution_count": null,
   "metadata": {},
   "outputs": [],
   "source": []
  },
  {
   "cell_type": "code",
   "execution_count": null,
   "metadata": {},
   "outputs": [],
   "source": []
  }
 ],
 "metadata": {
  "colab": {
   "collapsed_sections": [],
   "name": "HONESTY&SALARAY_PREDICTOR.ipynb",
   "provenance": []
  },
  "kernelspec": {
   "display_name": "Python 3 (ipykernel)",
   "language": "python",
   "name": "python3"
  },
  "language_info": {
   "codemirror_mode": {
    "name": "ipython",
    "version": 3
   },
   "file_extension": ".py",
   "mimetype": "text/x-python",
   "name": "python",
   "nbconvert_exporter": "python",
   "pygments_lexer": "ipython3",
   "version": "3.10.4"
  }
 },
 "nbformat": 4,
 "nbformat_minor": 1
}
