{
 "cells": [
  {
   "cell_type": "markdown",
   "metadata": {
    "id": "BGj12A2G7ZYy"
   },
   "source": [
    "## Importing the libraries"
   ]
  },
  {
   "cell_type": "code",
   "execution_count": 1,
   "metadata": {
    "id": "7Wceg47b58MT"
   },
   "outputs": [],
   "source": [
    "import numpy as np\n",
    "import pandas as pd\n",
    "import matplotlib.pyplot as plt"
   ]
  },
  {
   "cell_type": "markdown",
   "metadata": {
    "id": "glrXGbyi7cvB"
   },
   "source": [
    "## Importing the dataset"
   ]
  },
  {
   "cell_type": "code",
   "execution_count": 2,
   "metadata": {
    "id": "N828wx5z6J38"
   },
   "outputs": [],
   "source": [
    "dataset=pd.read_excel(\"data for honesty predictor.xlsx\")\n",
    "X=dataset.iloc[:,1:-1].values # features with which we will predict the dependent variable predictors\n",
    "y=dataset.iloc[:,-1].values # dependent variable\n",
    "\n"
   ]
  },
  {
   "cell_type": "code",
   "execution_count": 3,
   "metadata": {
    "colab": {
     "base_uri": "https://localhost:8080/"
    },
    "id": "kk3VbkUTbmjv",
    "outputId": "094850cb-5606-4472-ec47-1860d2543e6b"
   },
   "outputs": [
    {
     "name": "stdout",
     "output_type": "stream",
     "text": [
      "[20400 25800 34000 40000 44200  7890  9680 13700 16000 17600  5630  7240\n",
      "  9980 12400 13200  7440  9130 12900 15100 16600 13800 17000 24000 28100\n",
      " 30900  5150  6730  9430 11300 12300  4010  5380  6990  8460  9250  5270\n",
      "  6890  9640 11600 12600  2440  3260  4820  5880  6400  2670  3570  5280\n",
      "  6440  7010  1900  2540  3750  4570  7980  6700  8950 13200 16100 17600]\n"
     ]
    }
   ],
   "source": [
    "print(y)"
   ]
  },
  {
   "cell_type": "code",
   "execution_count": 4,
   "metadata": {
    "colab": {
     "base_uri": "https://localhost:8080/"
    },
    "id": "9qAJWep58xlM",
    "outputId": "79fd5356-8782-41db-f69f-2e640c3c0440"
   },
   "outputs": [
    {
     "name": "stdout",
     "output_type": "stream",
     "text": [
      "[['Data Scientist' 'UAE' 2]\n",
      " ['Data Scientist' 'UAE' 5]\n",
      " ['Data Scientist' 'UAE' 10]\n",
      " ['Data Scientist' 'UAE' 15]\n",
      " ['Data Scientist' 'UAE' 20]\n",
      " ['Data Scientist' 'US' 2]\n",
      " ['Data Scientist' 'US' 5]\n",
      " ['Data Scientist' 'US' 10]\n",
      " ['Data Scientist' 'US' 15]\n",
      " ['Data Scientist' 'US' 20]\n",
      " ['Data Scientist' 'UK' 2]\n",
      " ['Data Scientist' 'UK' 5]\n",
      " ['Data Scientist' 'UK' 10]\n",
      " ['Data Scientist' 'UK' 15]\n",
      " ['Data Scientist' 'UK' 20]\n",
      " ['Data Scientist' 'AUSTRALIA' 2]\n",
      " ['Data Scientist' 'AUSTRALIA' 5]\n",
      " ['Data Scientist' 'AUSTRALIA' 10]\n",
      " ['Data Scientist' 'AUSTRALIA' 15]\n",
      " ['Data Scientist' 'AUSTRALIA' 20]\n",
      " ['AI-ML Specialist' 'UAE' 2]\n",
      " ['AI-ML Specialist' 'UAE' 5]\n",
      " ['AI-ML Specialist' 'UAE' 10]\n",
      " ['AI-ML Specialist' 'UAE' 15]\n",
      " ['AI-ML Specialist' 'UAE' 20]\n",
      " ['AI-ML Specialist' 'US' 2]\n",
      " ['AI-ML Specialist' 'US' 5]\n",
      " ['AI-ML Specialist' 'US' 10]\n",
      " ['AI-ML Specialist' 'US' 15]\n",
      " ['AI-ML Specialist' 'US' 20]\n",
      " ['AI-ML Specialist' 'UK' 2]\n",
      " ['AI-ML Specialist' 'UK' 5]\n",
      " ['AI-ML Specialist' 'UK' 10]\n",
      " ['AI-ML Specialist' 'UK' 15]\n",
      " ['AI-ML Specialist' 'UK' 20]\n",
      " ['AI-ML Specialist' 'AUSTRALIA' 2]\n",
      " ['AI-ML Specialist' 'AUSTRALIA' 5]\n",
      " ['AI-ML Specialist' 'AUSTRALIA' 10]\n",
      " ['AI-ML Specialist' 'AUSTRALIA' 15]\n",
      " ['AI-ML Specialist' 'AUSTRALIA' 20]\n",
      " ['Graphic Designer' 'AUSTRALIA' 2]\n",
      " ['Graphic Designer' 'AUSTRALIA' 5]\n",
      " ['Graphic Designer' 'AUSTRALIA' 10]\n",
      " ['Graphic Designer' 'AUSTRALIA' 15]\n",
      " ['Graphic Designer' 'AUSTRALIA' 20]\n",
      " ['Graphic Designer' 'US' 2]\n",
      " ['Graphic Designer' 'US' 5]\n",
      " ['Graphic Designer' 'US' 10]\n",
      " ['Graphic Designer' 'US' 15]\n",
      " ['Graphic Designer' 'US' 20]\n",
      " ['Graphic Designer' 'UK' 2]\n",
      " ['Graphic Designer' 'UK' 5]\n",
      " ['Graphic Designer' 'UK' 10]\n",
      " ['Graphic Designer' 'UK' 15]\n",
      " ['Graphic Designer' 'UK' 20]\n",
      " ['Graphic Designer' 'UAE' 2]\n",
      " ['Graphic Designer' 'UAE' 5]\n",
      " ['Graphic Designer' 'UAE' 10]\n",
      " ['Graphic Designer' 'UAE' 15]\n",
      " ['Graphic Designer' 'UAE' 20]]\n"
     ]
    }
   ],
   "source": [
    "print(X)"
   ]
  },
  {
   "cell_type": "code",
   "execution_count": 5,
   "metadata": {
    "colab": {
     "base_uri": "https://localhost:8080/"
    },
    "id": "3848CnMgSrt0",
    "outputId": "55589e55-ba60-42bd-9042-63d2b005a98c"
   },
   "outputs": [
    {
     "name": "stdout",
     "output_type": "stream",
     "text": [
      "<class 'pandas.core.frame.DataFrame'>\n",
      "RangeIndex: 60 entries, 0 to 59\n",
      "Data columns (total 5 columns):\n",
      " #   Column             Non-Null Count  Dtype \n",
      "---  ------             --------------  ----- \n",
      " 0   Sno                60 non-null     int64 \n",
      " 1   Occupation         60 non-null     object\n",
      " 2   Location           60 non-null     object\n",
      " 3   Experience         60 non-null     int64 \n",
      " 4   Salary (CURRENCY)  60 non-null     int64 \n",
      "dtypes: int64(3), object(2)\n",
      "memory usage: 2.5+ KB\n"
     ]
    }
   ],
   "source": [
    "dataset.info() # getting the basic information regarding the dataset over here using this one"
   ]
  },
  {
   "cell_type": "code",
   "execution_count": 6,
   "metadata": {
    "colab": {
     "base_uri": "https://localhost:8080/",
     "height": 300
    },
    "id": "aU6cR6YTWiCI",
    "outputId": "c4fe662a-cb68-4a01-fd33-726538a78ca9"
   },
   "outputs": [
    {
     "data": {
      "text/html": [
       "<div>\n",
       "<style scoped>\n",
       "    .dataframe tbody tr th:only-of-type {\n",
       "        vertical-align: middle;\n",
       "    }\n",
       "\n",
       "    .dataframe tbody tr th {\n",
       "        vertical-align: top;\n",
       "    }\n",
       "\n",
       "    .dataframe thead th {\n",
       "        text-align: right;\n",
       "    }\n",
       "</style>\n",
       "<table border=\"1\" class=\"dataframe\">\n",
       "  <thead>\n",
       "    <tr style=\"text-align: right;\">\n",
       "      <th></th>\n",
       "      <th>Sno</th>\n",
       "      <th>Experience</th>\n",
       "      <th>Salary (CURRENCY)</th>\n",
       "    </tr>\n",
       "  </thead>\n",
       "  <tbody>\n",
       "    <tr>\n",
       "      <th>count</th>\n",
       "      <td>60.000000</td>\n",
       "      <td>60.000000</td>\n",
       "      <td>60.000000</td>\n",
       "    </tr>\n",
       "    <tr>\n",
       "      <th>mean</th>\n",
       "      <td>30.500000</td>\n",
       "      <td>10.400000</td>\n",
       "      <td>11812.500000</td>\n",
       "    </tr>\n",
       "    <tr>\n",
       "      <th>std</th>\n",
       "      <td>17.464249</td>\n",
       "      <td>6.585037</td>\n",
       "      <td>9049.618332</td>\n",
       "    </tr>\n",
       "    <tr>\n",
       "      <th>min</th>\n",
       "      <td>1.000000</td>\n",
       "      <td>2.000000</td>\n",
       "      <td>1900.000000</td>\n",
       "    </tr>\n",
       "    <tr>\n",
       "      <th>25%</th>\n",
       "      <td>15.750000</td>\n",
       "      <td>5.000000</td>\n",
       "      <td>5817.500000</td>\n",
       "    </tr>\n",
       "    <tr>\n",
       "      <th>50%</th>\n",
       "      <td>30.500000</td>\n",
       "      <td>10.000000</td>\n",
       "      <td>9190.000000</td>\n",
       "    </tr>\n",
       "    <tr>\n",
       "      <th>75%</th>\n",
       "      <td>45.250000</td>\n",
       "      <td>15.000000</td>\n",
       "      <td>14125.000000</td>\n",
       "    </tr>\n",
       "    <tr>\n",
       "      <th>max</th>\n",
       "      <td>60.000000</td>\n",
       "      <td>20.000000</td>\n",
       "      <td>44200.000000</td>\n",
       "    </tr>\n",
       "  </tbody>\n",
       "</table>\n",
       "</div>"
      ],
      "text/plain": [
       "             Sno  Experience  Salary (CURRENCY)\n",
       "count  60.000000   60.000000          60.000000\n",
       "mean   30.500000   10.400000       11812.500000\n",
       "std    17.464249    6.585037        9049.618332\n",
       "min     1.000000    2.000000        1900.000000\n",
       "25%    15.750000    5.000000        5817.500000\n",
       "50%    30.500000   10.000000        9190.000000\n",
       "75%    45.250000   15.000000       14125.000000\n",
       "max    60.000000   20.000000       44200.000000"
      ]
     },
     "execution_count": 6,
     "metadata": {},
     "output_type": "execute_result"
    }
   ],
   "source": [
    "dataset.describe() # this will give the basic statistial information regarding the dataset"
   ]
  },
  {
   "cell_type": "markdown",
   "metadata": {
    "id": "T-imzuve1hRA"
   },
   "source": [
    "## Encoding the dependent variables"
   ]
  },
  {
   "cell_type": "code",
   "execution_count": 7,
   "metadata": {
    "id": "AkHkkyd41kl4"
   },
   "outputs": [],
   "source": [
    "from sklearn.preprocessing import OrdinalEncoder\n",
    "column=dataset[[\"Location\"]]\n",
    "encoder = OrdinalEncoder()\n",
    "X[:,1:2]= encoder.fit_transform(X[:,1:2])\n",
    "\n",
    "\n",
    "\n"
   ]
  },
  {
   "cell_type": "code",
   "execution_count": 8,
   "metadata": {
    "id": "KFM5SsFhZiw1"
   },
   "outputs": [],
   "source": [
    "from sklearn.compose import ColumnTransformer\n",
    "from sklearn.preprocessing import OneHotEncoder\n",
    "ct=ColumnTransformer(transformers=[(\"encoder\",OneHotEncoder(),[0])],remainder=\"passthrough\")\n",
    "X=np.array(ct.fit_transform(X))"
   ]
  },
  {
   "cell_type": "code",
   "execution_count": 9,
   "metadata": {
    "colab": {
     "base_uri": "https://localhost:8080/"
    },
    "id": "JgFD17yMYRdp",
    "outputId": "88e4c2ee-bab5-4a44-b055-53b45de7a922"
   },
   "outputs": [
    {
     "name": "stdout",
     "output_type": "stream",
     "text": [
      "[[0.0 1.0 0.0 1.0 2]\n",
      " [0.0 1.0 0.0 1.0 5]\n",
      " [0.0 1.0 0.0 1.0 10]\n",
      " [0.0 1.0 0.0 1.0 15]\n",
      " [0.0 1.0 0.0 1.0 20]\n",
      " [0.0 1.0 0.0 3.0 2]\n",
      " [0.0 1.0 0.0 3.0 5]\n",
      " [0.0 1.0 0.0 3.0 10]\n",
      " [0.0 1.0 0.0 3.0 15]\n",
      " [0.0 1.0 0.0 3.0 20]\n",
      " [0.0 1.0 0.0 2.0 2]\n",
      " [0.0 1.0 0.0 2.0 5]\n",
      " [0.0 1.0 0.0 2.0 10]\n",
      " [0.0 1.0 0.0 2.0 15]\n",
      " [0.0 1.0 0.0 2.0 20]\n",
      " [0.0 1.0 0.0 0.0 2]\n",
      " [0.0 1.0 0.0 0.0 5]\n",
      " [0.0 1.0 0.0 0.0 10]\n",
      " [0.0 1.0 0.0 0.0 15]\n",
      " [0.0 1.0 0.0 0.0 20]\n",
      " [1.0 0.0 0.0 1.0 2]\n",
      " [1.0 0.0 0.0 1.0 5]\n",
      " [1.0 0.0 0.0 1.0 10]\n",
      " [1.0 0.0 0.0 1.0 15]\n",
      " [1.0 0.0 0.0 1.0 20]\n",
      " [1.0 0.0 0.0 3.0 2]\n",
      " [1.0 0.0 0.0 3.0 5]\n",
      " [1.0 0.0 0.0 3.0 10]\n",
      " [1.0 0.0 0.0 3.0 15]\n",
      " [1.0 0.0 0.0 3.0 20]\n",
      " [1.0 0.0 0.0 2.0 2]\n",
      " [1.0 0.0 0.0 2.0 5]\n",
      " [1.0 0.0 0.0 2.0 10]\n",
      " [1.0 0.0 0.0 2.0 15]\n",
      " [1.0 0.0 0.0 2.0 20]\n",
      " [1.0 0.0 0.0 0.0 2]\n",
      " [1.0 0.0 0.0 0.0 5]\n",
      " [1.0 0.0 0.0 0.0 10]\n",
      " [1.0 0.0 0.0 0.0 15]\n",
      " [1.0 0.0 0.0 0.0 20]\n",
      " [0.0 0.0 1.0 0.0 2]\n",
      " [0.0 0.0 1.0 0.0 5]\n",
      " [0.0 0.0 1.0 0.0 10]\n",
      " [0.0 0.0 1.0 0.0 15]\n",
      " [0.0 0.0 1.0 0.0 20]\n",
      " [0.0 0.0 1.0 3.0 2]\n",
      " [0.0 0.0 1.0 3.0 5]\n",
      " [0.0 0.0 1.0 3.0 10]\n",
      " [0.0 0.0 1.0 3.0 15]\n",
      " [0.0 0.0 1.0 3.0 20]\n",
      " [0.0 0.0 1.0 2.0 2]\n",
      " [0.0 0.0 1.0 2.0 5]\n",
      " [0.0 0.0 1.0 2.0 10]\n",
      " [0.0 0.0 1.0 2.0 15]\n",
      " [0.0 0.0 1.0 2.0 20]\n",
      " [0.0 0.0 1.0 1.0 2]\n",
      " [0.0 0.0 1.0 1.0 5]\n",
      " [0.0 0.0 1.0 1.0 10]\n",
      " [0.0 0.0 1.0 1.0 15]\n",
      " [0.0 0.0 1.0 1.0 20]]\n"
     ]
    }
   ],
   "source": [
    "print(X)"
   ]
  },
  {
   "cell_type": "code",
   "execution_count": 10,
   "metadata": {
    "colab": {
     "base_uri": "https://localhost:8080/"
    },
    "id": "0CTIadYN2pMr",
    "outputId": "64683bd9-2c96-4f94-8ede-14c354599152"
   },
   "outputs": [
    {
     "name": "stdout",
     "output_type": "stream",
     "text": [
      "[20400 25800 34000 40000 44200  7890  9680 13700 16000 17600  5630  7240\n",
      "  9980 12400 13200  7440  9130 12900 15100 16600 13800 17000 24000 28100\n",
      " 30900  5150  6730  9430 11300 12300  4010  5380  6990  8460  9250  5270\n",
      "  6890  9640 11600 12600  2440  3260  4820  5880  6400  2670  3570  5280\n",
      "  6440  7010  1900  2540  3750  4570  7980  6700  8950 13200 16100 17600]\n"
     ]
    }
   ],
   "source": [
    "print(y)"
   ]
  },
  {
   "cell_type": "markdown",
   "metadata": {
    "id": "9AZL5KdFXphk"
   },
   "source": [
    "## Spliiting the dataset into training set and testing set"
   ]
  },
  {
   "cell_type": "code",
   "execution_count": 11,
   "metadata": {
    "id": "SpsFQVIaXtpL"
   },
   "outputs": [],
   "source": [
    "from sklearn.model_selection import train_test_split\n",
    "X_train,X_test,y_train,y_test=train_test_split(X,y,test_size=0.2,random_state=0)"
   ]
  },
  {
   "cell_type": "markdown",
   "metadata": {},
   "source": [
    "## XGboost algorithm"
   ]
  },
  {
   "cell_type": "code",
   "execution_count": 12,
   "metadata": {},
   "outputs": [
    {
     "ename": "ModuleNotFoundError",
     "evalue": "No module named 'xgboost'",
     "output_type": "error",
     "traceback": [
      "\u001b[1;31m---------------------------------------------------------------------------\u001b[0m",
      "\u001b[1;31mModuleNotFoundError\u001b[0m                       Traceback (most recent call last)",
      "Input \u001b[1;32mIn [12]\u001b[0m, in \u001b[0;36m<cell line: 1>\u001b[1;34m()\u001b[0m\n\u001b[1;32m----> 1\u001b[0m \u001b[38;5;28;01mfrom\u001b[39;00m \u001b[38;5;21;01mxgboost\u001b[39;00m \u001b[38;5;28;01mimport\u001b[39;00m XGBRegressor\n\u001b[0;32m      2\u001b[0m regressor\u001b[38;5;241m=\u001b[39mXGBRegressor()\n\u001b[0;32m      3\u001b[0m regressor\u001b[38;5;241m.\u001b[39mfit(X_train,y_train)\n",
      "\u001b[1;31mModuleNotFoundError\u001b[0m: No module named 'xgboost'"
     ]
    }
   ],
   "source": [
    "from xgboost import XGBRegressor\n",
    "regressor=XGBRegressor()\n",
    "regressor.fit(X_train,y_train)"
   ]
  },
  {
   "cell_type": "markdown",
   "metadata": {
    "id": "VhYvPB8r7gTZ"
   },
   "source": [
    "## Training the model on the training set\n",
    "POLYNOMIAL REGRESSION\n"
   ]
  },
  {
   "cell_type": "code",
   "execution_count": null,
   "metadata": {
    "colab": {
     "base_uri": "https://localhost:8080/"
    },
    "id": "aZm3JfqE6dh5",
    "outputId": "23d7fccb-5666-41df-9889-c4b9536949d0"
   },
   "outputs": [],
   "source": [
    "from sklearn.preprocessing import PolynomialFeatures\n",
    "from sklearn.linear_model import LinearRegression\n",
    "poly_reg=PolynomialFeatures(degree=4)\n",
    "X_poly=poly_reg.fit_transform(X_train)\n",
    "regressor=LinearRegression()\n",
    "regressor.fit(X_poly,y_train)"
   ]
  },
  {
   "cell_type": "markdown",
   "metadata": {
    "id": "p4yjz9qn9hKn"
   },
   "source": [
    "## Predicting the results"
   ]
  },
  {
   "cell_type": "code",
   "execution_count": null,
   "metadata": {
    "colab": {
     "base_uri": "https://localhost:8080/"
    },
    "id": "pERV6fi89Gbi",
    "outputId": "1346b512-7700-4e39-a7c3-33db11bea07f"
   },
   "outputs": [],
   "source": [
    "y_pred = regressor.predict(poly_reg.fit_transform(X_test))\n",
    "np.set_printoptions(precision=2)\n",
    "print(np.concatenate((y_pred.reshape(len(y_pred),1), y_test.reshape(len(y_test),1)),1))"
   ]
  },
  {
   "cell_type": "code",
   "execution_count": null,
   "metadata": {
    "colab": {
     "base_uri": "https://localhost:8080/"
    },
    "id": "YFo00r-mcYHq",
    "outputId": "1c11310d-b120-48e6-fe9b-ad56f222bf7a"
   },
   "outputs": [],
   "source": [
    "print(X)"
   ]
  },
  {
   "cell_type": "markdown",
   "metadata": {
    "id": "Ryq2YfQq-h6Y"
   },
   "source": [
    "## Predicting the new results"
   ]
  },
  {
   "cell_type": "markdown",
   "metadata": {
    "id": "6aYniJ695E_V"
   },
   "source": [
    "### PREDICTING THE SALARY OF THE DATA SCIENTIST IN UAE WITH 0 WORK EXPERIENCE"
   ]
  },
  {
   "cell_type": "code",
   "execution_count": null,
   "metadata": {},
   "outputs": [],
   "source": [
    "print(regressor.predict(poly_reg.fit_transform([[0,1,0,1,0]])))"
   ]
  },
  {
   "cell_type": "markdown",
   "metadata": {
    "id": "SUHQ8WSI9q90"
   },
   "source": [
    "## Evaluating the performance of machine learning model"
   ]
  },
  {
   "cell_type": "code",
   "execution_count": null,
   "metadata": {
    "id": "OXLTuPU5-e7k"
   },
   "outputs": [],
   "source": [
    "from sklearn.metrics import r2_score\n",
    "r2_score(y_test,y_pred)"
   ]
  },
  {
   "cell_type": "code",
   "execution_count": null,
   "metadata": {},
   "outputs": [],
   "source": []
  }
 ],
 "metadata": {
  "colab": {
   "collapsed_sections": [],
   "name": "HONESTY&SALARAY_PREDICTOR.ipynb",
   "provenance": []
  },
  "kernelspec": {
   "display_name": "Python 3 (ipykernel)",
   "language": "python",
   "name": "python3"
  },
  "language_info": {
   "codemirror_mode": {
    "name": "ipython",
    "version": 3
   },
   "file_extension": ".py",
   "mimetype": "text/x-python",
   "name": "python",
   "nbconvert_exporter": "python",
   "pygments_lexer": "ipython3",
   "version": "3.10.4"
  }
 },
 "nbformat": 4,
 "nbformat_minor": 1
}
